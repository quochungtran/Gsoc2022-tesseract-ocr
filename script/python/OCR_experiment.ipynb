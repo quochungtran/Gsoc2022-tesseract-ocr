{
 "cells": [
  {
   "cell_type": "markdown",
   "metadata": {},
   "source": [
    "# Tesseract processing\n"
   ]
  },
  {
   "cell_type": "code",
   "execution_count": 6,
   "metadata": {},
   "outputs": [],
   "source": [
    "import matplotlib.pyplot as plt\n",
    "import cv2 \n",
    "import pytesseract\n",
    "import numpy as np\n",
    "import os\n",
    "from pytesseract import Output\n",
    "from pre_process import *\n",
    "from utils import *\n",
    "import re\n",
    "\n",
    "\n",
    "DATA_PATH = \"../../data\"\n",
    "\n",
    "def process_ocr(data_path,\n",
    "                name_image, \n",
    "                psm = 3,\n",
    "                oem = -1,\n",
    "                dpi = -1,\n",
    "                l = \"\",\n",
    "                is_processing  = False):\n",
    "\n",
    "     img_test_path = os.path.join(data_path, name_image)\n",
    "     img = {'image'    : cv2.imread(img_test_path),\n",
    "            'name_img' : name_image}\n",
    "     # Preprocessing\n",
    "     if (is_processing  == True ):\n",
    "             pre_process = PreProcessing_engine(img['image'])\n",
    "             # Tesseract does this internally (Otsu algorithm), but the result can be suboptimal,         \n",
    "             output = Preprocessing_img_pipeline(img['image'], ['remove_shadow'])\n",
    "     else : \n",
    "             output = img['image'].copy()\n",
    "     visualize(output)\n",
    "     # configuring parameters for tesseract\n",
    "     ### oem : OCR Engine mode.\n",
    "     ### psm : Page Segmentation mode \n",
    "     ### dpi : the resolution N in DPI \n",
    "     ### l   : the language or script to use\n",
    "\n",
    "     custom_config = \"\"\n",
    "     \n",
    "     if (psm > 0):\n",
    "          custom_config = f\"--psm {psm}\"\n",
    "     elif (psm == 0):\n",
    "           osd = pytesseract.image_to_osd(output)\n",
    "           print(osd)\n",
    "     if (oem >= 0) : \n",
    "          custom_config += f\" --oem {oem}\"\n",
    "     if (dpi >= 0) : \n",
    "          custom_config += f\" --dpi {dpi}\"\n",
    "     if (l != \"\") : \n",
    "          custom_config += f\" --l {l}\"\n",
    "     \n",
    "     print (custom_config)\n",
    "\n",
    "     text = pytesseract.image_to_string(output, \n",
    "                                    config=custom_config)\n",
    "     print(text)\n",
    "\n",
    "     \n",
    "     # feeding image to tesseract\n",
    "     results = pytesseract.image_to_data(output, \n",
    "                                         output_type=Output.DICT,\n",
    "                                         config=custom_config,\n",
    "                                         )        \n",
    "     img_box(results, \n",
    "             img['image'], \n",
    "             img['name_img'])        # save image \n",
    "     final_text = save_text_file(results)\n",
    "     "
   ]
  },
  {
   "cell_type": "markdown",
   "metadata": {},
   "source": [
    "## Define all data path for each psm case"
   ]
  },
  {
   "cell_type": "code",
   "execution_count": 7,
   "metadata": {},
   "outputs": [],
   "source": [
    "PSM0_PATH = DATA_PATH + \"/psm0\"\n",
    "PSM4_PATH = DATA_PATH + \"/psm4\"\n",
    "PSM5_PATH = DATA_PATH + \"/psm5\"\n",
    "PSM6_PATH = DATA_PATH + \"/psm6\"\n",
    "PSM7_PATH = DATA_PATH + \"/psm7\"\n",
    "PSM9_PATH = DATA_PATH + \"/psm9\"\n",
    "PSM11_PATH = DATA_PATH + \"/psm11\"\n",
    "PSM13_PATH = DATA_PATH + \"/psm13\""
   ]
  },
  {
   "cell_type": "markdown",
   "metadata": {},
   "source": [
    "## PSM 0"
   ]
  },
  {
   "cell_type": "code",
   "execution_count": null,
   "metadata": {},
   "outputs": [],
   "source": [
    "process_ocr(PSM0_PATH,  \"org.png\", psm = 0)"
   ]
  },
  {
   "cell_type": "markdown",
   "metadata": {},
   "source": [
    "## PSM 4"
   ]
  },
  {
   "cell_type": "code",
   "execution_count": null,
   "metadata": {},
   "outputs": [],
   "source": [
    "process_ocr(PSM4_PATH, \"medical_bill.png\", psm = 4)"
   ]
  },
  {
   "cell_type": "code",
   "execution_count": null,
   "metadata": {},
   "outputs": [],
   "source": [
    "process_ocr(PSM4_PATH, \"receipt-grocery-store.png\", psm = 4)"
   ]
  },
  {
   "cell_type": "code",
   "execution_count": null,
   "metadata": {},
   "outputs": [],
   "source": [
    "process_ocr(PSM4_PATH, \"Bitmap-min.png\", psm = 4, is_processing=True)"
   ]
  },
  {
   "cell_type": "markdown",
   "metadata": {},
   "source": [
    "## PSM 5\n"
   ]
  },
  {
   "cell_type": "code",
   "execution_count": null,
   "metadata": {},
   "outputs": [],
   "source": [
    "process_ocr(PSM4_PATH, \"receipt-grocery-store-rotate-90.png\", psm = 5, is_processing=True)"
   ]
  },
  {
   "cell_type": "markdown",
   "metadata": {},
   "source": [
    "## PSM 6 "
   ]
  },
  {
   "cell_type": "code",
   "execution_count": null,
   "metadata": {},
   "outputs": [],
   "source": [
    "process_ocr(PSM6_PATH, \"book1.png\", psm = 6, is_processing=True)"
   ]
  },
  {
   "cell_type": "markdown",
   "metadata": {},
   "source": [
    "## PSM 7"
   ]
  },
  {
   "cell_type": "code",
   "execution_count": null,
   "metadata": {},
   "outputs": [],
   "source": [
    "process_ocr(PSM7_PATH, \"broadway.png\", psm = 7, is_processing=False)"
   ]
  },
  {
   "cell_type": "markdown",
   "metadata": {},
   "source": [
    "## PSM 9"
   ]
  },
  {
   "cell_type": "code",
   "execution_count": null,
   "metadata": {},
   "outputs": [],
   "source": [
    "process_ocr(PSM9_PATH, \"digikam.png\", psm = 9, is_processing=False)"
   ]
  },
  {
   "cell_type": "markdown",
   "metadata": {},
   "source": [
    "## PSM10"
   ]
  },
  {
   "cell_type": "code",
   "execution_count": null,
   "metadata": {},
   "outputs": [],
   "source": [
    "process_ocr(PSM7_PATH, \"broadway.png\", psm = 10, is_processing=False)"
   ]
  },
  {
   "cell_type": "markdown",
   "metadata": {},
   "source": [
    "## PSM11"
   ]
  },
  {
   "cell_type": "code",
   "execution_count": null,
   "metadata": {},
   "outputs": [],
   "source": [
    "process_ocr(PSM11_PATH, \"spart_text.png\", psm = 11, is_processing=True)"
   ]
  },
  {
   "cell_type": "markdown",
   "metadata": {},
   "source": [
    "## PSM 13"
   ]
  },
  {
   "cell_type": "code",
   "execution_count": null,
   "metadata": {},
   "outputs": [],
   "source": [
    "process_ocr(PSM13_PATH, \"test.png\", psm = 13, is_processing=False)"
   ]
  },
  {
   "cell_type": "code",
   "execution_count": null,
   "metadata": {},
   "outputs": [],
   "source": [
    "process_ocr(PSM13_PATH, \"test2.png\", psm = 13, is_processing=False)"
   ]
  }
 ],
 "metadata": {
  "interpreter": {
   "hash": "31f2aee4e71d21fbe5cf8b01ff0e069b9275f58929596ceb00d14d90e3e16cd6"
  },
  "kernelspec": {
   "display_name": "Python 3 (ipykernel)",
   "language": "python",
   "name": "python3"
  },
  "language_info": {
   "codemirror_mode": {
    "name": "ipython",
    "version": 3
   },
   "file_extension": ".py",
   "mimetype": "text/x-python",
   "name": "python",
   "nbconvert_exporter": "python",
   "pygments_lexer": "ipython3",
   "version": "3.10.4"
  }
 },
 "nbformat": 4,
 "nbformat_minor": 2
}
